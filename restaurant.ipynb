{
 "cells": [
  {
   "cell_type": "markdown",
   "metadata": {},
   "source": [
    "### Table of Contents\n",
    "- 1. [Problem Statement](#section1)</br>\n",
    "    - 1.1 [Introduction](#section101)<br/>\n",
    "    - 1.2 [Data source and data set](#section102)<br/>\n",
    "- 2. [Load the packages and data](#section2)</br>\n",
    "- 3. [Data profiling](#section3)</br>\n",
    "    - 3.1 [dtypes](#section301)<br/>\n",
    "    - 3.2 [head](#section302)<br/>\n",
    "    - 3.3 [describe](#section303)<br/>\n",
    "    - 3.4 [sample](#section304)<br/>\n",
    "    - 3.5 [Pandas profiling](#section305)<br/>\n",
    "    - 3.6 [Initial observations](#section306)<br/>\n",
    "   \n",
    "- 4. [Data normalization](#section4)</br>\n",
    "    - 4.1 [Standardize column headers to lower case](#section401)<br/>\n",
    "    \n",
    "- 5. [Identify patterns and observations  in the data](#section5)</br>\n",
    "    - 5.1 [US province (first 5) which as largest number of food chains](#section501)<br/>\n",
    "    - 5.2 [Restaurent name (first 5)  which has largest number of food chains across US ](#section502)<br/>\n",
    "    - 5.3 [Frequency of Restaurent in US provinces ( first 4 province with largest food chains) ](#section503)<br/>\n",
    "    - 5.4 [Frequency of Restaurent in US provinces ( other than first 4 province with largest food chains)](#section504)<br/>\n",
    "    - 5.5 [  Frequency of top 3 restaurent chains in first 4 Provinces with high frequency ](#section506)<br/>\n",
    "    - 5.6 [Frequency of top 5 cities with largest food chains across US](#section507)<br/>\n",
    "    - 5.7 [Frequency of top 3 restaurent in top 4 cities  cities across us](#section508)<br/>\n",
    "\n",
    "- 7. [Conclusion](#section7)<br/>"
   ]
  },
  {
   "cell_type": "markdown",
   "metadata": {},
   "source": [
    "<a id=section1></a> \n",
    "## 1. Problem Statement \n",
    "\n",
    "\"This dataset is given by INSAID to to EDA analysis on restaurent data\"\n",
    "<a id=section101></a> \n",
    "### 1.1. Introduction\n",
    "This Exploratory Data Analysis is to practice Python skills learned till now on a structured data set including loading, inspecting, wrangling, exploring, and drawing conclusions from data. The notebook has observations with each step in order to explain thoroughly how to approach the data set. Based on the observation some questions also are answered in the notebook for the reference though not all of them are explored in the analysis. \n",
    "\n",
    "<a id=section102></a> \n",
    "### 1.2. Data source and dataset\n",
    "\n",
    "__a__. How was it collected? \n",
    "\n",
    "- It is given by INSAID \n",
    "\n",
    "__b__. Is it a sample? If yes, was it properly sampled?\n",
    "- Yes, it is a sample. We don't have official information about the data collection method, but it appears *not* to be a random sample, so we can assume that it is not representative. "
   ]
  },
  {
   "cell_type": "markdown",
   "metadata": {},
   "source": [
    "<a id=section2></a> \n",
    "### 2. Load the packages and data \n"
   ]
  },
  {
   "cell_type": "code",
   "execution_count": 3,
   "metadata": {
    "collapsed": true,
    "scrolled": true
   },
   "outputs": [],
   "source": [
    "import sys                                                                      # Import packages\n",
    "import pandas as pd\n",
    "import seaborn as sns\n",
    "import numpy as np\n",
    "import matplotlib.pyplot as plt\n",
    "from matplotlib.pyplot import pie, axis, show\n",
    "%matplotlib inline       \n",
    "\n",
    "df= pd.read_csv(\"FastFoodRestaurants.csv\")\n"
   ]
  },
  {
   "cell_type": "markdown",
   "metadata": {
    "collapsed": true
   },
   "source": [
    "<a id=section3></a> \n",
    "### 3. Data Profiling\n",
    "\n",
    "Review the data types and sample data to understand what variables we are dealing with?<br>\n",
    "Which variables need to be transformed in some way before they can be analyzed?"
   ]
  },
  {
   "cell_type": "markdown",
   "metadata": {},
   "source": [
    "<a id=section301></a> "
   ]
  },
  {
   "cell_type": "code",
   "execution_count": 19,
   "metadata": {},
   "outputs": [
    {
     "data": {
      "text/plain": [
       "address        object\n",
       "city           object\n",
       "country        object\n",
       "keys           object\n",
       "latitude      float64\n",
       "longitude     float64\n",
       "name           object\n",
       "postalCode     object\n",
       "province       object\n",
       "websites       object\n",
       "dtype: object"
      ]
     },
     "execution_count": 19,
     "metadata": {},
     "output_type": "execute_result"
    }
   ],
   "source": [
    "df.dtypes               "
   ]
  },
  {
   "cell_type": "markdown",
   "metadata": {},
   "source": [
    "<a id=section302></a> "
   ]
  },
  {
   "cell_type": "code",
   "execution_count": 21,
   "metadata": {},
   "outputs": [
    {
     "data": {
      "text/html": [
       "<div>\n",
       "<style>\n",
       "    .dataframe thead tr:only-child th {\n",
       "        text-align: right;\n",
       "    }\n",
       "\n",
       "    .dataframe thead th {\n",
       "        text-align: left;\n",
       "    }\n",
       "\n",
       "    .dataframe tbody tr th {\n",
       "        vertical-align: top;\n",
       "    }\n",
       "</style>\n",
       "<table border=\"1\" class=\"dataframe\">\n",
       "  <thead>\n",
       "    <tr style=\"text-align: right;\">\n",
       "      <th></th>\n",
       "      <th>address</th>\n",
       "      <th>city</th>\n",
       "      <th>country</th>\n",
       "      <th>keys</th>\n",
       "      <th>latitude</th>\n",
       "      <th>longitude</th>\n",
       "      <th>name</th>\n",
       "      <th>postalCode</th>\n",
       "      <th>province</th>\n",
       "      <th>websites</th>\n",
       "    </tr>\n",
       "  </thead>\n",
       "  <tbody>\n",
       "    <tr>\n",
       "      <th>0</th>\n",
       "      <td>324 Main St</td>\n",
       "      <td>Massena</td>\n",
       "      <td>US</td>\n",
       "      <td>us/ny/massena/324mainst/-1161002137</td>\n",
       "      <td>44.92130</td>\n",
       "      <td>-74.89021</td>\n",
       "      <td>McDonald's</td>\n",
       "      <td>13662</td>\n",
       "      <td>NY</td>\n",
       "      <td>http://mcdonalds.com,http://www.mcdonalds.com/...</td>\n",
       "    </tr>\n",
       "    <tr>\n",
       "      <th>1</th>\n",
       "      <td>530 Clinton Ave</td>\n",
       "      <td>Washington Court House</td>\n",
       "      <td>US</td>\n",
       "      <td>us/oh/washingtoncourthouse/530clintonave/-7914...</td>\n",
       "      <td>39.53255</td>\n",
       "      <td>-83.44526</td>\n",
       "      <td>Wendy's</td>\n",
       "      <td>43160</td>\n",
       "      <td>OH</td>\n",
       "      <td>http://www.wendys.com</td>\n",
       "    </tr>\n",
       "    <tr>\n",
       "      <th>2</th>\n",
       "      <td>408 Market Square Dr</td>\n",
       "      <td>Maysville</td>\n",
       "      <td>US</td>\n",
       "      <td>us/ky/maysville/408marketsquaredr/1051460804</td>\n",
       "      <td>38.62736</td>\n",
       "      <td>-83.79141</td>\n",
       "      <td>Frisch's Big Boy</td>\n",
       "      <td>41056</td>\n",
       "      <td>KY</td>\n",
       "      <td>http://www.frischs.com,https://www.frischs.com...</td>\n",
       "    </tr>\n",
       "    <tr>\n",
       "      <th>3</th>\n",
       "      <td>6098 State Highway 37</td>\n",
       "      <td>Massena</td>\n",
       "      <td>US</td>\n",
       "      <td>us/ny/massena/6098statehighway37/-1161002137</td>\n",
       "      <td>44.95008</td>\n",
       "      <td>-74.84553</td>\n",
       "      <td>McDonald's</td>\n",
       "      <td>13662</td>\n",
       "      <td>NY</td>\n",
       "      <td>http://mcdonalds.com,http://www.mcdonalds.com/...</td>\n",
       "    </tr>\n",
       "    <tr>\n",
       "      <th>4</th>\n",
       "      <td>139 Columbus Rd</td>\n",
       "      <td>Athens</td>\n",
       "      <td>US</td>\n",
       "      <td>us/oh/athens/139columbusrd/990890980</td>\n",
       "      <td>39.35155</td>\n",
       "      <td>-82.09728</td>\n",
       "      <td>OMG! Rotisserie</td>\n",
       "      <td>45701</td>\n",
       "      <td>OH</td>\n",
       "      <td>http://www.omgrotisserie.com,http://omgrotisse...</td>\n",
       "    </tr>\n",
       "  </tbody>\n",
       "</table>\n",
       "</div>"
      ],
      "text/plain": [
       "                 address                    city country  \\\n",
       "0            324 Main St                 Massena      US   \n",
       "1        530 Clinton Ave  Washington Court House      US   \n",
       "2   408 Market Square Dr               Maysville      US   \n",
       "3  6098 State Highway 37                 Massena      US   \n",
       "4        139 Columbus Rd                  Athens      US   \n",
       "\n",
       "                                                keys  latitude  longitude  \\\n",
       "0                us/ny/massena/324mainst/-1161002137  44.92130  -74.89021   \n",
       "1  us/oh/washingtoncourthouse/530clintonave/-7914...  39.53255  -83.44526   \n",
       "2       us/ky/maysville/408marketsquaredr/1051460804  38.62736  -83.79141   \n",
       "3       us/ny/massena/6098statehighway37/-1161002137  44.95008  -74.84553   \n",
       "4               us/oh/athens/139columbusrd/990890980  39.35155  -82.09728   \n",
       "\n",
       "               name postalCode province  \\\n",
       "0        McDonald's      13662       NY   \n",
       "1           Wendy's      43160       OH   \n",
       "2  Frisch's Big Boy      41056       KY   \n",
       "3        McDonald's      13662       NY   \n",
       "4   OMG! Rotisserie      45701       OH   \n",
       "\n",
       "                                            websites  \n",
       "0  http://mcdonalds.com,http://www.mcdonalds.com/...  \n",
       "1                              http://www.wendys.com  \n",
       "2  http://www.frischs.com,https://www.frischs.com...  \n",
       "3  http://mcdonalds.com,http://www.mcdonalds.com/...  \n",
       "4  http://www.omgrotisserie.com,http://omgrotisse...  "
      ]
     },
     "execution_count": 21,
     "metadata": {},
     "output_type": "execute_result"
    }
   ],
   "source": [
    "df.head()"
   ]
  },
  {
   "cell_type": "markdown",
   "metadata": {},
   "source": [
    "<a id=section303></a> "
   ]
  },
  {
   "cell_type": "code",
   "execution_count": 37,
   "metadata": {},
   "outputs": [
    {
     "data": {
      "text/html": [
       "<div>\n",
       "<style>\n",
       "    .dataframe thead tr:only-child th {\n",
       "        text-align: right;\n",
       "    }\n",
       "\n",
       "    .dataframe thead th {\n",
       "        text-align: left;\n",
       "    }\n",
       "\n",
       "    .dataframe tbody tr th {\n",
       "        vertical-align: top;\n",
       "    }\n",
       "</style>\n",
       "<table border=\"1\" class=\"dataframe\">\n",
       "  <thead>\n",
       "    <tr style=\"text-align: right;\">\n",
       "      <th></th>\n",
       "      <th>address</th>\n",
       "      <th>city</th>\n",
       "      <th>country</th>\n",
       "      <th>keys</th>\n",
       "      <th>latitude</th>\n",
       "      <th>longitude</th>\n",
       "      <th>name</th>\n",
       "      <th>postalCode</th>\n",
       "      <th>province</th>\n",
       "      <th>websites</th>\n",
       "    </tr>\n",
       "  </thead>\n",
       "  <tbody>\n",
       "    <tr>\n",
       "      <th>count</th>\n",
       "      <td>10000</td>\n",
       "      <td>10000</td>\n",
       "      <td>10000</td>\n",
       "      <td>10000</td>\n",
       "      <td>10000.000000</td>\n",
       "      <td>10000.000000</td>\n",
       "      <td>10000</td>\n",
       "      <td>10000</td>\n",
       "      <td>10000</td>\n",
       "      <td>9535</td>\n",
       "    </tr>\n",
       "    <tr>\n",
       "      <th>unique</th>\n",
       "      <td>9934</td>\n",
       "      <td>2775</td>\n",
       "      <td>1</td>\n",
       "      <td>10000</td>\n",
       "      <td>NaN</td>\n",
       "      <td>NaN</td>\n",
       "      <td>548</td>\n",
       "      <td>5289</td>\n",
       "      <td>52</td>\n",
       "      <td>3821</td>\n",
       "    </tr>\n",
       "    <tr>\n",
       "      <th>top</th>\n",
       "      <td>3900 Las Vegas Blvd S</td>\n",
       "      <td>Cincinnati</td>\n",
       "      <td>US</td>\n",
       "      <td>us/fl/newsmyrnabeach/1704sdixiefwy/-1161002137</td>\n",
       "      <td>NaN</td>\n",
       "      <td>NaN</td>\n",
       "      <td>McDonald's</td>\n",
       "      <td>57701</td>\n",
       "      <td>CA</td>\n",
       "      <td>http://mcdonalds.com,http://www.mcdonalds.com/...</td>\n",
       "    </tr>\n",
       "    <tr>\n",
       "      <th>freq</th>\n",
       "      <td>3</td>\n",
       "      <td>119</td>\n",
       "      <td>10000</td>\n",
       "      <td>1</td>\n",
       "      <td>NaN</td>\n",
       "      <td>NaN</td>\n",
       "      <td>1886</td>\n",
       "      <td>23</td>\n",
       "      <td>676</td>\n",
       "      <td>1074</td>\n",
       "    </tr>\n",
       "    <tr>\n",
       "      <th>mean</th>\n",
       "      <td>NaN</td>\n",
       "      <td>NaN</td>\n",
       "      <td>NaN</td>\n",
       "      <td>NaN</td>\n",
       "      <td>37.552195</td>\n",
       "      <td>-91.056132</td>\n",
       "      <td>NaN</td>\n",
       "      <td>NaN</td>\n",
       "      <td>NaN</td>\n",
       "      <td>NaN</td>\n",
       "    </tr>\n",
       "    <tr>\n",
       "      <th>std</th>\n",
       "      <td>NaN</td>\n",
       "      <td>NaN</td>\n",
       "      <td>NaN</td>\n",
       "      <td>NaN</td>\n",
       "      <td>5.050275</td>\n",
       "      <td>18.556339</td>\n",
       "      <td>NaN</td>\n",
       "      <td>NaN</td>\n",
       "      <td>NaN</td>\n",
       "      <td>NaN</td>\n",
       "    </tr>\n",
       "    <tr>\n",
       "      <th>min</th>\n",
       "      <td>NaN</td>\n",
       "      <td>NaN</td>\n",
       "      <td>NaN</td>\n",
       "      <td>NaN</td>\n",
       "      <td>-6.244273</td>\n",
       "      <td>-159.378915</td>\n",
       "      <td>NaN</td>\n",
       "      <td>NaN</td>\n",
       "      <td>NaN</td>\n",
       "      <td>NaN</td>\n",
       "    </tr>\n",
       "    <tr>\n",
       "      <th>25%</th>\n",
       "      <td>NaN</td>\n",
       "      <td>NaN</td>\n",
       "      <td>NaN</td>\n",
       "      <td>NaN</td>\n",
       "      <td>34.028706</td>\n",
       "      <td>-97.412631</td>\n",
       "      <td>NaN</td>\n",
       "      <td>NaN</td>\n",
       "      <td>NaN</td>\n",
       "      <td>NaN</td>\n",
       "    </tr>\n",
       "    <tr>\n",
       "      <th>50%</th>\n",
       "      <td>NaN</td>\n",
       "      <td>NaN</td>\n",
       "      <td>NaN</td>\n",
       "      <td>NaN</td>\n",
       "      <td>38.298217</td>\n",
       "      <td>-87.660930</td>\n",
       "      <td>NaN</td>\n",
       "      <td>NaN</td>\n",
       "      <td>NaN</td>\n",
       "      <td>NaN</td>\n",
       "    </tr>\n",
       "    <tr>\n",
       "      <th>75%</th>\n",
       "      <td>NaN</td>\n",
       "      <td>NaN</td>\n",
       "      <td>NaN</td>\n",
       "      <td>NaN</td>\n",
       "      <td>41.116765</td>\n",
       "      <td>-81.458351</td>\n",
       "      <td>NaN</td>\n",
       "      <td>NaN</td>\n",
       "      <td>NaN</td>\n",
       "      <td>NaN</td>\n",
       "    </tr>\n",
       "    <tr>\n",
       "      <th>max</th>\n",
       "      <td>NaN</td>\n",
       "      <td>NaN</td>\n",
       "      <td>NaN</td>\n",
       "      <td>NaN</td>\n",
       "      <td>64.840240</td>\n",
       "      <td>123.012361</td>\n",
       "      <td>NaN</td>\n",
       "      <td>NaN</td>\n",
       "      <td>NaN</td>\n",
       "      <td>NaN</td>\n",
       "    </tr>\n",
       "  </tbody>\n",
       "</table>\n",
       "</div>"
      ],
      "text/plain": [
       "                      address        city country  \\\n",
       "count                   10000       10000   10000   \n",
       "unique                   9934        2775       1   \n",
       "top     3900 Las Vegas Blvd S  Cincinnati      US   \n",
       "freq                        3         119   10000   \n",
       "mean                      NaN         NaN     NaN   \n",
       "std                       NaN         NaN     NaN   \n",
       "min                       NaN         NaN     NaN   \n",
       "25%                       NaN         NaN     NaN   \n",
       "50%                       NaN         NaN     NaN   \n",
       "75%                       NaN         NaN     NaN   \n",
       "max                       NaN         NaN     NaN   \n",
       "\n",
       "                                                  keys      latitude  \\\n",
       "count                                            10000  10000.000000   \n",
       "unique                                           10000           NaN   \n",
       "top     us/fl/newsmyrnabeach/1704sdixiefwy/-1161002137           NaN   \n",
       "freq                                                 1           NaN   \n",
       "mean                                               NaN     37.552195   \n",
       "std                                                NaN      5.050275   \n",
       "min                                                NaN     -6.244273   \n",
       "25%                                                NaN     34.028706   \n",
       "50%                                                NaN     38.298217   \n",
       "75%                                                NaN     41.116765   \n",
       "max                                                NaN     64.840240   \n",
       "\n",
       "           longitude        name postalCode province  \\\n",
       "count   10000.000000       10000      10000    10000   \n",
       "unique           NaN         548       5289       52   \n",
       "top              NaN  McDonald's      57701       CA   \n",
       "freq             NaN        1886         23      676   \n",
       "mean      -91.056132         NaN        NaN      NaN   \n",
       "std        18.556339         NaN        NaN      NaN   \n",
       "min      -159.378915         NaN        NaN      NaN   \n",
       "25%       -97.412631         NaN        NaN      NaN   \n",
       "50%       -87.660930         NaN        NaN      NaN   \n",
       "75%       -81.458351         NaN        NaN      NaN   \n",
       "max       123.012361         NaN        NaN      NaN   \n",
       "\n",
       "                                                 websites  \n",
       "count                                                9535  \n",
       "unique                                               3821  \n",
       "top     http://mcdonalds.com,http://www.mcdonalds.com/...  \n",
       "freq                                                 1074  \n",
       "mean                                                  NaN  \n",
       "std                                                   NaN  \n",
       "min                                                   NaN  \n",
       "25%                                                   NaN  \n",
       "50%                                                   NaN  \n",
       "75%                                                   NaN  \n",
       "max                                                   NaN  "
      ]
     },
     "execution_count": 37,
     "metadata": {},
     "output_type": "execute_result"
    }
   ],
   "source": [
    "df.describe(include=\"all\")"
   ]
  },
  {
   "cell_type": "markdown",
   "metadata": {},
   "source": [
    "<a id=section304></a> "
   ]
  },
  {
   "cell_type": "code",
   "execution_count": 7,
   "metadata": {},
   "outputs": [
    {
     "data": {
      "text/html": [
       "<div>\n",
       "<style>\n",
       "    .dataframe thead tr:only-child th {\n",
       "        text-align: right;\n",
       "    }\n",
       "\n",
       "    .dataframe thead th {\n",
       "        text-align: left;\n",
       "    }\n",
       "\n",
       "    .dataframe tbody tr th {\n",
       "        vertical-align: top;\n",
       "    }\n",
       "</style>\n",
       "<table border=\"1\" class=\"dataframe\">\n",
       "  <thead>\n",
       "    <tr style=\"text-align: right;\">\n",
       "      <th></th>\n",
       "      <th>address</th>\n",
       "      <th>city</th>\n",
       "      <th>country</th>\n",
       "      <th>keys</th>\n",
       "      <th>latitude</th>\n",
       "      <th>longitude</th>\n",
       "      <th>name</th>\n",
       "      <th>postalCode</th>\n",
       "      <th>province</th>\n",
       "      <th>websites</th>\n",
       "    </tr>\n",
       "  </thead>\n",
       "  <tbody>\n",
       "    <tr>\n",
       "      <th>2609</th>\n",
       "      <td>1695 E Kemper Rd</td>\n",
       "      <td>Cincinnati</td>\n",
       "      <td>US</td>\n",
       "      <td>us/oh/cincinnati/1695ekemperrd/-1161002137</td>\n",
       "      <td>39.284774</td>\n",
       "      <td>-84.444467</td>\n",
       "      <td>McDonald's</td>\n",
       "      <td>45246</td>\n",
       "      <td>OH</td>\n",
       "      <td>http://mcdonalds.com,http://www.mcdonalds.com/...</td>\n",
       "    </tr>\n",
       "    <tr>\n",
       "      <th>262</th>\n",
       "      <td>3596 MT Diablo Blvd</td>\n",
       "      <td>Lafayette</td>\n",
       "      <td>US</td>\n",
       "      <td>us/ca/lafayette/3596mtdiabloblvd/-1322134216</td>\n",
       "      <td>37.891487</td>\n",
       "      <td>-122.123350</td>\n",
       "      <td>Baja Fresh</td>\n",
       "      <td>94549</td>\n",
       "      <td>CA</td>\n",
       "      <td>NaN</td>\n",
       "    </tr>\n",
       "    <tr>\n",
       "      <th>4386</th>\n",
       "      <td>8955 Fields Ertel Rd</td>\n",
       "      <td>Cincinnati</td>\n",
       "      <td>US</td>\n",
       "      <td>us/oh/cincinnati/8955fieldsertelrd/93075755</td>\n",
       "      <td>39.292244</td>\n",
       "      <td>-84.314204</td>\n",
       "      <td>Arby's</td>\n",
       "      <td>45249</td>\n",
       "      <td>OH</td>\n",
       "      <td>https://locations.arbys.com/us/oh/cincinnati/8...</td>\n",
       "    </tr>\n",
       "    <tr>\n",
       "      <th>3264</th>\n",
       "      <td>513 Saw Mill Rd</td>\n",
       "      <td>West Haven</td>\n",
       "      <td>US</td>\n",
       "      <td>us/ct/westhaven/513sawmillrd/-1161002137</td>\n",
       "      <td>41.270557</td>\n",
       "      <td>-72.974770</td>\n",
       "      <td>McDonald's</td>\n",
       "      <td>6516</td>\n",
       "      <td>CT</td>\n",
       "      <td>http://www.mcdonalds.com</td>\n",
       "    </tr>\n",
       "    <tr>\n",
       "      <th>5210</th>\n",
       "      <td>815 Jackson Blvd</td>\n",
       "      <td>Rapid City</td>\n",
       "      <td>US</td>\n",
       "      <td>us/sd/rapidcity/815jacksonblvd/1780593795</td>\n",
       "      <td>44.078180</td>\n",
       "      <td>-103.250590</td>\n",
       "      <td>SONIC Drive In</td>\n",
       "      <td>57702</td>\n",
       "      <td>SD</td>\n",
       "      <td>https://locations.sonicdrivein.com/sd/rapid-ci...</td>\n",
       "    </tr>\n",
       "    <tr>\n",
       "      <th>2562</th>\n",
       "      <td>1838 W Sunset Blvd</td>\n",
       "      <td>Saint George</td>\n",
       "      <td>US</td>\n",
       "      <td>us/ut/saintgeorge/1838wsunsetblvd/-791445730</td>\n",
       "      <td>37.122734</td>\n",
       "      <td>-113.623076</td>\n",
       "      <td>Wendy's</td>\n",
       "      <td>84770</td>\n",
       "      <td>UT</td>\n",
       "      <td>http://www.wendys.com</td>\n",
       "    </tr>\n",
       "    <tr>\n",
       "      <th>6698</th>\n",
       "      <td>503 S Alvarado St</td>\n",
       "      <td>Los Angeles</td>\n",
       "      <td>US</td>\n",
       "      <td>us/ca/losangeles/503salvaradost/-981164808</td>\n",
       "      <td>34.059895</td>\n",
       "      <td>-118.274820</td>\n",
       "      <td>El Pollo Loco</td>\n",
       "      <td>90057</td>\n",
       "      <td>CA</td>\n",
       "      <td>http://www.elpolloloco.com,http://elpolloloco....</td>\n",
       "    </tr>\n",
       "    <tr>\n",
       "      <th>4321</th>\n",
       "      <td>100 SE 25th Ave</td>\n",
       "      <td>Mineral Wells</td>\n",
       "      <td>US</td>\n",
       "      <td>us/tx/mineralwells/100se25thave/-390366181</td>\n",
       "      <td>32.809260</td>\n",
       "      <td>-98.087926</td>\n",
       "      <td>Chicken Express</td>\n",
       "      <td>76067</td>\n",
       "      <td>TX</td>\n",
       "      <td>http://www.chickene.com</td>\n",
       "    </tr>\n",
       "    <tr>\n",
       "      <th>9639</th>\n",
       "      <td>1562 S Riverside Ave</td>\n",
       "      <td>Rialto</td>\n",
       "      <td>US</td>\n",
       "      <td>us/ca/rialto/1562sriversideave/-230519289</td>\n",
       "      <td>34.071899</td>\n",
       "      <td>-117.370345</td>\n",
       "      <td>Jack in the Box</td>\n",
       "      <td>92376</td>\n",
       "      <td>CA</td>\n",
       "      <td>http://www.jackinthebox.com</td>\n",
       "    </tr>\n",
       "    <tr>\n",
       "      <th>2547</th>\n",
       "      <td>4916 W 6200 S</td>\n",
       "      <td>Salt Lake City</td>\n",
       "      <td>US</td>\n",
       "      <td>us/ut/saltlakecity/4916w6200s/-863563290</td>\n",
       "      <td>40.638850</td>\n",
       "      <td>-112.008370</td>\n",
       "      <td>TacoTime</td>\n",
       "      <td>84118</td>\n",
       "      <td>UT</td>\n",
       "      <td>http://www.tacotime.com,http://api.citygridmed...</td>\n",
       "    </tr>\n",
       "  </tbody>\n",
       "</table>\n",
       "</div>"
      ],
      "text/plain": [
       "                   address            city country  \\\n",
       "2609      1695 E Kemper Rd      Cincinnati      US   \n",
       "262    3596 MT Diablo Blvd       Lafayette      US   \n",
       "4386  8955 Fields Ertel Rd      Cincinnati      US   \n",
       "3264       513 Saw Mill Rd      West Haven      US   \n",
       "5210      815 Jackson Blvd      Rapid City      US   \n",
       "2562    1838 W Sunset Blvd    Saint George      US   \n",
       "6698     503 S Alvarado St     Los Angeles      US   \n",
       "4321       100 SE 25th Ave   Mineral Wells      US   \n",
       "9639  1562 S Riverside Ave          Rialto      US   \n",
       "2547         4916 W 6200 S  Salt Lake City      US   \n",
       "\n",
       "                                              keys   latitude   longitude  \\\n",
       "2609    us/oh/cincinnati/1695ekemperrd/-1161002137  39.284774  -84.444467   \n",
       "262   us/ca/lafayette/3596mtdiabloblvd/-1322134216  37.891487 -122.123350   \n",
       "4386   us/oh/cincinnati/8955fieldsertelrd/93075755  39.292244  -84.314204   \n",
       "3264      us/ct/westhaven/513sawmillrd/-1161002137  41.270557  -72.974770   \n",
       "5210     us/sd/rapidcity/815jacksonblvd/1780593795  44.078180 -103.250590   \n",
       "2562  us/ut/saintgeorge/1838wsunsetblvd/-791445730  37.122734 -113.623076   \n",
       "6698    us/ca/losangeles/503salvaradost/-981164808  34.059895 -118.274820   \n",
       "4321    us/tx/mineralwells/100se25thave/-390366181  32.809260  -98.087926   \n",
       "9639     us/ca/rialto/1562sriversideave/-230519289  34.071899 -117.370345   \n",
       "2547      us/ut/saltlakecity/4916w6200s/-863563290  40.638850 -112.008370   \n",
       "\n",
       "                 name postalCode province  \\\n",
       "2609       McDonald's      45246       OH   \n",
       "262        Baja Fresh      94549       CA   \n",
       "4386           Arby's      45249       OH   \n",
       "3264       McDonald's       6516       CT   \n",
       "5210   SONIC Drive In      57702       SD   \n",
       "2562          Wendy's      84770       UT   \n",
       "6698    El Pollo Loco      90057       CA   \n",
       "4321  Chicken Express      76067       TX   \n",
       "9639  Jack in the Box      92376       CA   \n",
       "2547         TacoTime      84118       UT   \n",
       "\n",
       "                                               websites  \n",
       "2609  http://mcdonalds.com,http://www.mcdonalds.com/...  \n",
       "262                                                 NaN  \n",
       "4386  https://locations.arbys.com/us/oh/cincinnati/8...  \n",
       "3264                           http://www.mcdonalds.com  \n",
       "5210  https://locations.sonicdrivein.com/sd/rapid-ci...  \n",
       "2562                              http://www.wendys.com  \n",
       "6698  http://www.elpolloloco.com,http://elpolloloco....  \n",
       "4321                            http://www.chickene.com  \n",
       "9639                        http://www.jackinthebox.com  \n",
       "2547  http://www.tacotime.com,http://api.citygridmed...  "
      ]
     },
     "execution_count": 7,
     "metadata": {},
     "output_type": "execute_result"
    }
   ],
   "source": [
    "df.sample(10)"
   ]
  },
  {
   "cell_type": "markdown",
   "metadata": {},
   "source": [
    "<a id=section305></a> "
   ]
  },
  {
   "cell_type": "code",
   "execution_count": null,
   "metadata": {
    "collapsed": true
   },
   "outputs": [],
   "source": [
    "import pandas_profiling                                                      # Get a quick overview for all the variables using pandas_profiling                                         \n",
    "profile = pandas_profiling.ProfileReport(df)\n",
    "profile.to_file(outputfile=\"myoutputfile.html\")                              # HTML file will be downloaded to your workspace"
   ]
  },
  {
   "cell_type": "markdown",
   "metadata": {},
   "source": [
    "<a id=section306></a> \n",
    "### Initial Observations:\n",
    "- Majority of columns are categorical\n",
    "- Only 2 columns are numerical ,latitude and longitude\n",
    "- There is missing data on=bserves in website field ( 4.6 %)"
   ]
  },
  {
   "cell_type": "markdown",
   "metadata": {},
   "source": [
    "<a id=section5></a> \n",
    "### 5 Analysis of Pattern in data"
   ]
  },
  {
   "cell_type": "markdown",
   "metadata": {},
   "source": [
    "<a id=section501></a> "
   ]
  },
  {
   "cell_type": "markdown",
   "metadata": {},
   "source": [
    "### 5.1 US province (first 5) which as largest number of food chains"
   ]
  },
  {
   "cell_type": "code",
   "execution_count": 30,
   "metadata": {},
   "outputs": [
    {
     "data": {
      "image/png": "[encoded data removed]",
      "text/plain": [
       "<Figure size 576x360 with 1 Axes>"
      ]
     },
     "metadata": {},
     "output_type": "display_data"
    }
   ],
   "source": [
    "plt.figure(figsize=(8,5))\n",
    "sns.countplot('province',data = df, order = df['province'].value_counts().head().index,palette=\"PuBuGn_d\")\n",
    "plt.title(\"Province v/s Counts\",fontsize=18,fontweight=\"bold\")\n",
    "plt.xlabel('Province')\n",
    "plt.ylabel('Frequency')\n",
    "plt.show()"
   ]
  },
  {
   "cell_type": "markdown",
   "metadata": {},
   "source": [
    "#### Observation: Province CA, TX and CH has highest Frequency for restaurant chain"
   ]
  },
  {
   "cell_type": "markdown",
   "metadata": {},
   "source": [
    "<a id=section502></a> \n",
    "### 5.2 Restaurent name (first 5) which has largest number of food chains across US "
   ]
  },
  {
   "cell_type": "code",
   "execution_count": 9,
   "metadata": {},
   "outputs": [
    {
     "data": {
      "image/png": "[encoded data removed]",
      "text/plain": [
       "<Figure size 720x360 with 1 Axes>"
      ]
     },
     "metadata": {},
     "output_type": "display_data"
    }
   ],
   "source": [
    "plt.figure(figsize=(10,5))\n",
    "sns.countplot('name',data = df, order = df['name'].value_counts().head().index,palette=\"PuBuGn_d\")\n",
    "plt.title(\"Restaurant Counts\",fontsize=18,fontweight=\"bold\")\n",
    "plt.xlabel('Restaurant')\n",
    "plt.ylabel('Frequency')\n",
    "plt.show()"
   ]
  },
  {
   "cell_type": "markdown",
   "metadata": {},
   "source": [
    "#### Observation: McDonalds has largest no of chains followed by  Burger King and Taco Bell  across US"
   ]
  },
  {
   "cell_type": "code",
   "execution_count": 19,
   "metadata": {
    "collapsed": true
   },
   "outputs": [],
   "source": [
    "df_subgroup = df.copy()\n",
    "\n",
    "df_subgroup = df_subgroup[df_subgroup['province'].isin(['CA','TX','OH','FL'])]\n",
    "\n",
    "\n"
   ]
  },
  {
   "cell_type": "markdown",
   "metadata": {},
   "source": [
    "### select dataset for 'CA','TX','OH','FL' Province"
   ]
  },
  {
   "cell_type": "code",
   "execution_count": 20,
   "metadata": {
    "collapsed": true
   },
   "outputs": [],
   "source": [
    "df_subgroup_rest = df[~df['province'].isin(['CA','TX','OH','FL'])]\n"
   ]
  },
  {
   "cell_type": "markdown",
   "metadata": {},
   "source": [
    "### select dataset for  Provinces other than 'CA','TX','OH','FL'"
   ]
  },
  {
   "cell_type": "markdown",
   "metadata": {},
   "source": [
    "<a id=section503></a>\n",
    "### 5.3 Frequency of Restaurent in US provinces ( first 4 province with largest food chains) "
   ]
  },
  {
   "cell_type": "code",
   "execution_count": 13,
   "metadata": {},
   "outputs": [
    {
     "data": {
      "image/png": "[encoded data removed]",
      "text/plain": [
       "<Figure size 720x360 with 1 Axes>"
      ]
     },
     "metadata": {},
     "output_type": "display_data"
    }
   ],
   "source": [
    "plt.figure(figsize=(10,5))\n",
    "sns.countplot('name',data = df_subgroup, order = df_subgroup['name'].value_counts().head().index,palette=\"PuBuGn_d\")\n",
    "plt.title(\"Restaurent Counts\",fontsize=18,fontweight=\"bold\")\n",
    "plt.xlabel('Restaurent')\n",
    "plt.ylabel('Frequency')\n",
    "plt.show()"
   ]
  },
  {
   "cell_type": "markdown",
   "metadata": {},
   "source": [
    "#### Observation:  In  CA, TX, OH and FL,McDonalds is largest followed by Burger King and Taco Bell"
   ]
  },
  {
   "cell_type": "markdown",
   "metadata": {},
   "source": [
    "<a id=section504></a> \n",
    "### 5.4 Frequency of Restaurent in US provinces ( other than first 4 province with largest food chains)"
   ]
  },
  {
   "cell_type": "code",
   "execution_count": 27,
   "metadata": {},
   "outputs": [
    {
     "data": {
      "image/png": "[encoded data removed]",
      "text/plain": [
       "<Figure size 720x360 with 1 Axes>"
      ]
     },
     "metadata": {},
     "output_type": "display_data"
    }
   ],
   "source": [
    "plt.figure(figsize=(10,5))\n",
    "sns.countplot('name',data = df_subgroup_rest, order = df_subgroup_rest['name'].value_counts().head().index,palette=\"PuBuGn_d\")\n",
    "plt.title(\"Restaurent Counts\",fontsize=18,fontweight=\"bold\")\n",
    "plt.xlabel('Restaurent')\n",
    "plt.ylabel('Frequency')\n",
    "plt.show()"
   ]
  },
  {
   "cell_type": "markdown",
   "metadata": {},
   "source": [
    "#### Observation: Provinces (Other than  CA, TX, OH and FL),McDonalds is largest followed by Burger King and Taco Bell"
   ]
  },
  {
   "cell_type": "markdown",
   "metadata": {},
   "source": [
    "<a id=section506></a> \n",
    "### 5.5 Frequency of top 3 restaurent chains in first 4 Provinces with high frequency \n"
   ]
  },
  {
   "cell_type": "code",
   "execution_count": 49,
   "metadata": {},
   "outputs": [
    {
     "data": {
      "text/plain": [
       "Text(0.5,1,'province  vs Restaurant')"
      ]
     },
     "execution_count": 49,
     "metadata": {},
     "output_type": "execute_result"
    },
    {
     "data": {
      "image/png": "[encoded data removed]",
      "text/plain": [
       "<Figure size 576x432 with 1 Axes>"
      ]
     },
     "metadata": {},
     "output_type": "display_data"
    }
   ],
   "source": [
    "fig,ax =plt.subplots(figsize=(8,6))\n",
    "sns.countplot(data = df_subgroup[df_subgroup['name'].isin([\"McDonald's\",\"Burger King\",\"Taco Bell\"])],x = 'province', hue='name')\n",
    "plt.title('province  vs Restaurant')"
   ]
  },
  {
   "cell_type": "markdown",
   "metadata": {},
   "source": [
    "#### Observation 1: McDonand has largest food chain across USA but in Province FL, Burger King is largest followed by Mcdonald\n",
    "#### Observation 2:  BurgerKing  is second largest chain but in province TX and CA, Taco bell is second largest and Burger King is third largest"
   ]
  },
  {
   "cell_type": "markdown",
   "metadata": {},
   "source": [
    "<a id=section507></a> \n",
    "### 5.6 Frequency of top 5 cities with largest food  chains across US\n"
   ]
  },
  {
   "cell_type": "code",
   "execution_count": 33,
   "metadata": {},
   "outputs": [
    {
     "data": {
      "image/png": "[encoded data removed]",
      "text/plain": [
       "<Figure size 576x360 with 1 Axes>"
      ]
     },
     "metadata": {},
     "output_type": "display_data"
    }
   ],
   "source": [
    "plt.figure(figsize=(8,5))\n",
    "sns.countplot('city',data = df, order = df['city'].value_counts().head().index,palette=\"PuBuGn_d\")\n",
    "plt.title(\"city Counts\",fontsize=18,fontweight=\"bold\")\n",
    "plt.xlabel('city')\n",
    "plt.ylabel('Frequency')\n",
    "plt.show()"
   ]
  },
  {
   "cell_type": "markdown",
   "metadata": {},
   "source": [
    "#### Observation:  In Cities, Cincinati has largest number of food chains followed by Las Vegas, Houston,Miami"
   ]
  },
  {
   "cell_type": "markdown",
   "metadata": {},
   "source": [
    "<a id=section508></a> \n",
    "### 5.7 Frequency of top 3 restaurent in top 4 cities  cities across us\n"
   ]
  },
  {
   "cell_type": "code",
   "execution_count": 34,
   "metadata": {},
   "outputs": [
    {
     "name": "stderr",
     "output_type": "stream",
     "text": [
      "D:\\anaconda\\lib\\site-packages\\ipykernel_launcher.py:3: UserWarning: Boolean Series key will be reindexed to match DataFrame index.\n",
      "  This is separate from the ipykernel package so we can avoid doing imports until\n"
     ]
    },
    {
     "data": {
      "text/plain": [
       "Text(0.5,1,'province  vs Restaurant')"
      ]
     },
     "execution_count": 34,
     "metadata": {},
     "output_type": "execute_result"
    },
    {
     "data": {
      "image/png": "[encoded data removed]",
      "text/plain": [
       "<Figure size 576x432 with 1 Axes>"
      ]
     },
     "metadata": {},
     "output_type": "display_data"
    }
   ],
   "source": [
    "fig,ax =plt.subplots(figsize=(8,6))\n",
    "sns.countplot(data = df[df['name'].isin([\"McDonald's\",\"Burger King\",\"Taco Bell\"])]\n",
    "              [df['city'].isin([\"Cincinnati\",\"Las Vegas\",\"Houston\",\"Miami\"])],x = 'city', hue='name')\n",
    "plt.title('province  vs Restaurant')"
   ]
  },
  {
   "cell_type": "markdown",
   "metadata": {},
   "source": [
    "### Observations:\n",
    "-  In Miami city, Burger King is largest \n",
    "- In Las Vegas, Mcdonals is largest and Burger King and Taco Bell are equal in number\n",
    "- In Cincinnati, McDonalds is largest followed by Taco Bell"
   ]
  },
  {
   "cell_type": "markdown",
   "metadata": {
    "collapsed": true
   },
   "source": [
    "<a id=section7></a> \n",
    "### Conclusion:\n",
    "- __From section 5.1__, We have concluded Province CA, TX and CH has highest Frequency for restaurant chain\n",
    "- __From section 5.2__, We have concluded McDonalds has largest no of chains followed by Burger King and Taco Bell across US\n",
    "- __From section 5.6__,Cincinati has largest number of food chains followed by Las Vegas, Houston,Miami\n",
    "- __From section 5.7__, Mcdonalds is  second largest in Miami. Burger King is largest in Miami\n",
    "- __From section 5.7__, Taco bell second largest in Cincinnati followed by Burger King\n",
    "- __From section 5.5__, Burger king is largest in province FL and Mcdonals is second largest. "
   ]
  },
  {
   "cell_type": "code",
   "execution_count": null,
   "metadata": {
    "collapsed": true
   },
   "outputs": [],
   "source": []
  }
 ],
 "metadata": {
  "kernelspec": {
   "display_name": "Python 3",
   "language": "python",
   "name": "python3"
  },
  "language_info": {
   "codemirror_mode": {
    "name": "ipython",
    "version": 3
   },
   "file_extension": ".py",
   "mimetype": "text/x-python",
   "name": "python",
   "nbconvert_exporter": "python",
   "pygments_lexer": "ipython3",
   "version": "3.6.3"
  }
 },
 "nbformat": 4,
 "nbformat_minor": 2
}
